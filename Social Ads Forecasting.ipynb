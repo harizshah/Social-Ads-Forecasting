{
 "cells": [
  {
   "cell_type": "markdown",
   "id": "4fba91b0",
   "metadata": {},
   "source": [
    "# Social Ads Forecasting Using Linear Regression"
   ]
  },
  {
   "cell_type": "markdown",
   "id": "73e3efe1",
   "metadata": {},
   "source": [
    "---\n",
    "\n",
    "**Columns**\n",
    "\n",
    "---\n",
    "\n",
    "\n",
    "segment: market (ID form)\n",
    "\n",
    "google, facebook, instagram: amount spent on the platforms in thousands (USD/$)\n",
    "\n",
    "sales: units sold in thousands\n",
    "\n",
    "size: market size\n",
    "\n",
    "area: type of market\n",
    "\n",
    "---\n",
    "\n",
    "**Business Question**\n",
    "\n",
    "---\n",
    "\n",
    "Given a budget of $100k, how will you spend the budget to maximize revenue"
   ]
  },
  {
   "cell_type": "code",
   "execution_count": 1,
   "id": "d813f324",
   "metadata": {},
   "outputs": [],
   "source": [
    "import pandas as pd\n",
    "import seaborn as sns\n",
    "import matplotlib.pyplot as plt\n",
    "from sklearn.linear_model import LinearRegression\n",
    "from sklearn.model_selection import train_test_split\n",
    "import warnings\n",
    "warnings.filterwarnings('ignore')"
   ]
  },
  {
   "cell_type": "markdown",
   "id": "b64a9aac",
   "metadata": {},
   "source": [
    "## Obtaining the Data"
   ]
  },
  {
   "cell_type": "code",
   "execution_count": 3,
   "id": "8408912b",
   "metadata": {},
   "outputs": [],
   "source": [
    "df = pd.read_excel('social-ads-raw.xlsx')"
   ]
  },
  {
   "cell_type": "code",
   "execution_count": 4,
   "id": "9146dc0a",
   "metadata": {},
   "outputs": [
    {
     "data": {
      "text/html": [
       "<div>\n",
       "<style scoped>\n",
       "    .dataframe tbody tr th:only-of-type {\n",
       "        vertical-align: middle;\n",
       "    }\n",
       "\n",
       "    .dataframe tbody tr th {\n",
       "        vertical-align: top;\n",
       "    }\n",
       "\n",
       "    .dataframe thead th {\n",
       "        text-align: right;\n",
       "    }\n",
       "</style>\n",
       "<table border=\"1\" class=\"dataframe\">\n",
       "  <thead>\n",
       "    <tr style=\"text-align: right;\">\n",
       "      <th></th>\n",
       "      <th>segment</th>\n",
       "      <th>google</th>\n",
       "      <th>facebook</th>\n",
       "      <th>instagram</th>\n",
       "      <th>sales</th>\n",
       "      <th>size</th>\n",
       "      <th>area</th>\n",
       "    </tr>\n",
       "  </thead>\n",
       "  <tbody>\n",
       "    <tr>\n",
       "      <th>0</th>\n",
       "      <td>1</td>\n",
       "      <td>230.1</td>\n",
       "      <td>37.8</td>\n",
       "      <td>69.2</td>\n",
       "      <td>22.1</td>\n",
       "      <td>large</td>\n",
       "      <td>rural</td>\n",
       "    </tr>\n",
       "    <tr>\n",
       "      <th>1</th>\n",
       "      <td>2</td>\n",
       "      <td>44.5</td>\n",
       "      <td>39.3</td>\n",
       "      <td>45.1</td>\n",
       "      <td>10.4</td>\n",
       "      <td>small</td>\n",
       "      <td>urban</td>\n",
       "    </tr>\n",
       "    <tr>\n",
       "      <th>2</th>\n",
       "      <td>3</td>\n",
       "      <td>17.2</td>\n",
       "      <td>45.9</td>\n",
       "      <td>69.3</td>\n",
       "      <td>9.3</td>\n",
       "      <td>small</td>\n",
       "      <td>rural</td>\n",
       "    </tr>\n",
       "    <tr>\n",
       "      <th>3</th>\n",
       "      <td>4</td>\n",
       "      <td>151.5</td>\n",
       "      <td>41.3</td>\n",
       "      <td>58.5</td>\n",
       "      <td>18.5</td>\n",
       "      <td>small</td>\n",
       "      <td>urban</td>\n",
       "    </tr>\n",
       "    <tr>\n",
       "      <th>4</th>\n",
       "      <td>5</td>\n",
       "      <td>180.8</td>\n",
       "      <td>10.8</td>\n",
       "      <td>58.4</td>\n",
       "      <td>12.9</td>\n",
       "      <td>large</td>\n",
       "      <td>suburban</td>\n",
       "    </tr>\n",
       "    <tr>\n",
       "      <th>5</th>\n",
       "      <td>6</td>\n",
       "      <td>8.7</td>\n",
       "      <td>48.9</td>\n",
       "      <td>75.0</td>\n",
       "      <td>7.2</td>\n",
       "      <td>large</td>\n",
       "      <td>suburban</td>\n",
       "    </tr>\n",
       "    <tr>\n",
       "      <th>6</th>\n",
       "      <td>7</td>\n",
       "      <td>57.5</td>\n",
       "      <td>32.8</td>\n",
       "      <td>23.5</td>\n",
       "      <td>11.8</td>\n",
       "      <td>large</td>\n",
       "      <td>suburban</td>\n",
       "    </tr>\n",
       "    <tr>\n",
       "      <th>7</th>\n",
       "      <td>8</td>\n",
       "      <td>120.2</td>\n",
       "      <td>19.6</td>\n",
       "      <td>11.6</td>\n",
       "      <td>13.2</td>\n",
       "      <td>large</td>\n",
       "      <td>urban</td>\n",
       "    </tr>\n",
       "    <tr>\n",
       "      <th>8</th>\n",
       "      <td>9</td>\n",
       "      <td>8.6</td>\n",
       "      <td>2.1</td>\n",
       "      <td>1.0</td>\n",
       "      <td>4.8</td>\n",
       "      <td>large</td>\n",
       "      <td>rural</td>\n",
       "    </tr>\n",
       "    <tr>\n",
       "      <th>9</th>\n",
       "      <td>10</td>\n",
       "      <td>199.8</td>\n",
       "      <td>2.6</td>\n",
       "      <td>21.2</td>\n",
       "      <td>10.6</td>\n",
       "      <td>large</td>\n",
       "      <td>suburban</td>\n",
       "    </tr>\n",
       "  </tbody>\n",
       "</table>\n",
       "</div>"
      ],
      "text/plain": [
       "   segment  google  facebook  instagram  sales   size      area\n",
       "0        1   230.1      37.8       69.2   22.1  large     rural\n",
       "1        2    44.5      39.3       45.1   10.4  small     urban\n",
       "2        3    17.2      45.9       69.3    9.3  small     rural\n",
       "3        4   151.5      41.3       58.5   18.5  small     urban\n",
       "4        5   180.8      10.8       58.4   12.9  large  suburban\n",
       "5        6     8.7      48.9       75.0    7.2  large  suburban\n",
       "6        7    57.5      32.8       23.5   11.8  large  suburban\n",
       "7        8   120.2      19.6       11.6   13.2  large     urban\n",
       "8        9     8.6       2.1        1.0    4.8  large     rural\n",
       "9       10   199.8       2.6       21.2   10.6  large  suburban"
      ]
     },
     "execution_count": 4,
     "metadata": {},
     "output_type": "execute_result"
    }
   ],
   "source": [
    "df.head(10)"
   ]
  },
  {
   "cell_type": "markdown",
   "id": "6bcb220d",
   "metadata": {},
   "source": [
    "## Scrubbing the Data"
   ]
  },
  {
   "cell_type": "code",
   "execution_count": 5,
   "id": "de3ce8f4",
   "metadata": {},
   "outputs": [
    {
     "name": "stdout",
     "output_type": "stream",
     "text": [
      "Unique items in size column: ['large' 'small']\n",
      "Unique items in area column: ['rural' 'urban' 'suburban']\n"
     ]
    }
   ],
   "source": [
    "# Checking for unique items\n",
    "\n",
    "print('Unique items in size column:', df['size'].unique())\n",
    "print('Unique items in area column:', df['area'].unique())"
   ]
  },
  {
   "cell_type": "code",
   "execution_count": 6,
   "id": "8c1ca528",
   "metadata": {},
   "outputs": [
    {
     "data": {
      "text/plain": [
       "array([1, 0], dtype=int64)"
      ]
     },
     "execution_count": 6,
     "metadata": {},
     "output_type": "execute_result"
    }
   ],
   "source": [
    "# Creating new column and converting 'size' to binary\n",
    "\n",
    "df['is_large'] = df['size'].map({'small':0, 'large': 1})\n",
    "df['is_large'].unique()"
   ]
  },
  {
   "cell_type": "code",
   "execution_count": 7,
   "id": "859bc72f",
   "metadata": {},
   "outputs": [],
   "source": [
    "# Converting 'area' to binary columns\n",
    "\n",
    "area_dummies = pd.get_dummies(df['area'])\n",
    "df = df.join(area_dummies)"
   ]
  },
  {
   "cell_type": "code",
   "execution_count": 8,
   "id": "b41b090e",
   "metadata": {},
   "outputs": [
    {
     "name": "stdout",
     "output_type": "stream",
     "text": [
      "<class 'pandas.core.frame.DataFrame'>\n",
      "RangeIndex: 200 entries, 0 to 199\n",
      "Data columns (total 11 columns):\n",
      " #   Column     Non-Null Count  Dtype  \n",
      "---  ------     --------------  -----  \n",
      " 0   segment    200 non-null    int64  \n",
      " 1   google     200 non-null    float64\n",
      " 2   facebook   200 non-null    float64\n",
      " 3   instagram  200 non-null    float64\n",
      " 4   sales      200 non-null    float64\n",
      " 5   size       200 non-null    object \n",
      " 6   area       200 non-null    object \n",
      " 7   is_large   200 non-null    int64  \n",
      " 8   rural      200 non-null    uint8  \n",
      " 9   suburban   200 non-null    uint8  \n",
      " 10  urban      200 non-null    uint8  \n",
      "dtypes: float64(4), int64(2), object(2), uint8(3)\n",
      "memory usage: 13.2+ KB\n"
     ]
    }
   ],
   "source": [
    "df.info()"
   ]
  },
  {
   "cell_type": "code",
   "execution_count": 9,
   "id": "fdd87912",
   "metadata": {},
   "outputs": [
    {
     "data": {
      "text/html": [
       "<div>\n",
       "<style scoped>\n",
       "    .dataframe tbody tr th:only-of-type {\n",
       "        vertical-align: middle;\n",
       "    }\n",
       "\n",
       "    .dataframe tbody tr th {\n",
       "        vertical-align: top;\n",
       "    }\n",
       "\n",
       "    .dataframe thead th {\n",
       "        text-align: right;\n",
       "    }\n",
       "</style>\n",
       "<table border=\"1\" class=\"dataframe\">\n",
       "  <thead>\n",
       "    <tr style=\"text-align: right;\">\n",
       "      <th></th>\n",
       "      <th>segment</th>\n",
       "      <th>google</th>\n",
       "      <th>facebook</th>\n",
       "      <th>instagram</th>\n",
       "      <th>sales</th>\n",
       "      <th>size</th>\n",
       "      <th>area</th>\n",
       "      <th>is_large</th>\n",
       "      <th>rural</th>\n",
       "      <th>suburban</th>\n",
       "      <th>urban</th>\n",
       "    </tr>\n",
       "  </thead>\n",
       "  <tbody>\n",
       "    <tr>\n",
       "      <th>13</th>\n",
       "      <td>14</td>\n",
       "      <td>97.5</td>\n",
       "      <td>7.6</td>\n",
       "      <td>7.2</td>\n",
       "      <td>9.7</td>\n",
       "      <td>small</td>\n",
       "      <td>urban</td>\n",
       "      <td>0</td>\n",
       "      <td>0</td>\n",
       "      <td>0</td>\n",
       "      <td>1</td>\n",
       "    </tr>\n",
       "    <tr>\n",
       "      <th>113</th>\n",
       "      <td>114</td>\n",
       "      <td>209.6</td>\n",
       "      <td>20.6</td>\n",
       "      <td>10.7</td>\n",
       "      <td>15.9</td>\n",
       "      <td>small</td>\n",
       "      <td>urban</td>\n",
       "      <td>0</td>\n",
       "      <td>0</td>\n",
       "      <td>0</td>\n",
       "      <td>1</td>\n",
       "    </tr>\n",
       "    <tr>\n",
       "      <th>29</th>\n",
       "      <td>30</td>\n",
       "      <td>70.6</td>\n",
       "      <td>16.0</td>\n",
       "      <td>40.8</td>\n",
       "      <td>10.5</td>\n",
       "      <td>small</td>\n",
       "      <td>urban</td>\n",
       "      <td>0</td>\n",
       "      <td>0</td>\n",
       "      <td>0</td>\n",
       "      <td>1</td>\n",
       "    </tr>\n",
       "    <tr>\n",
       "      <th>107</th>\n",
       "      <td>108</td>\n",
       "      <td>90.4</td>\n",
       "      <td>0.3</td>\n",
       "      <td>23.2</td>\n",
       "      <td>8.7</td>\n",
       "      <td>large</td>\n",
       "      <td>urban</td>\n",
       "      <td>1</td>\n",
       "      <td>0</td>\n",
       "      <td>0</td>\n",
       "      <td>1</td>\n",
       "    </tr>\n",
       "    <tr>\n",
       "      <th>135</th>\n",
       "      <td>136</td>\n",
       "      <td>48.3</td>\n",
       "      <td>47.0</td>\n",
       "      <td>8.5</td>\n",
       "      <td>11.6</td>\n",
       "      <td>small</td>\n",
       "      <td>suburban</td>\n",
       "      <td>0</td>\n",
       "      <td>0</td>\n",
       "      <td>1</td>\n",
       "      <td>0</td>\n",
       "    </tr>\n",
       "  </tbody>\n",
       "</table>\n",
       "</div>"
      ],
      "text/plain": [
       "     segment  google  facebook  instagram  sales   size      area  is_large  \\\n",
       "13        14    97.5       7.6        7.2    9.7  small     urban         0   \n",
       "113      114   209.6      20.6       10.7   15.9  small     urban         0   \n",
       "29        30    70.6      16.0       40.8   10.5  small     urban         0   \n",
       "107      108    90.4       0.3       23.2    8.7  large     urban         1   \n",
       "135      136    48.3      47.0        8.5   11.6  small  suburban         0   \n",
       "\n",
       "     rural  suburban  urban  \n",
       "13       0         0      1  \n",
       "113      0         0      1  \n",
       "29       0         0      1  \n",
       "107      0         0      1  \n",
       "135      0         1      0  "
      ]
     },
     "execution_count": 9,
     "metadata": {},
     "output_type": "execute_result"
    }
   ],
   "source": [
    "df.sample(5)"
   ]
  },
  {
   "cell_type": "markdown",
   "id": "5a864e28",
   "metadata": {},
   "source": [
    "## Exploring the Data"
   ]
  },
  {
   "cell_type": "code",
   "execution_count": 10,
   "id": "4b42058c",
   "metadata": {},
   "outputs": [
    {
     "data": {
      "text/html": [
       "<div>\n",
       "<style scoped>\n",
       "    .dataframe tbody tr th:only-of-type {\n",
       "        vertical-align: middle;\n",
       "    }\n",
       "\n",
       "    .dataframe tbody tr th {\n",
       "        vertical-align: top;\n",
       "    }\n",
       "\n",
       "    .dataframe thead th {\n",
       "        text-align: right;\n",
       "    }\n",
       "</style>\n",
       "<table border=\"1\" class=\"dataframe\">\n",
       "  <thead>\n",
       "    <tr style=\"text-align: right;\">\n",
       "      <th></th>\n",
       "      <th>segment</th>\n",
       "      <th>google</th>\n",
       "      <th>facebook</th>\n",
       "      <th>instagram</th>\n",
       "      <th>sales</th>\n",
       "      <th>is_large</th>\n",
       "      <th>rural</th>\n",
       "      <th>suburban</th>\n",
       "      <th>urban</th>\n",
       "    </tr>\n",
       "  </thead>\n",
       "  <tbody>\n",
       "    <tr>\n",
       "      <th>count</th>\n",
       "      <td>200.000000</td>\n",
       "      <td>200.000000</td>\n",
       "      <td>200.000000</td>\n",
       "      <td>200.000000</td>\n",
       "      <td>200.000000</td>\n",
       "      <td>200.000000</td>\n",
       "      <td>200.000000</td>\n",
       "      <td>200.000000</td>\n",
       "      <td>200.000000</td>\n",
       "    </tr>\n",
       "    <tr>\n",
       "      <th>mean</th>\n",
       "      <td>100.500000</td>\n",
       "      <td>147.042500</td>\n",
       "      <td>23.264000</td>\n",
       "      <td>30.554000</td>\n",
       "      <td>14.022500</td>\n",
       "      <td>0.540000</td>\n",
       "      <td>0.295000</td>\n",
       "      <td>0.390000</td>\n",
       "      <td>0.315000</td>\n",
       "    </tr>\n",
       "    <tr>\n",
       "      <th>std</th>\n",
       "      <td>57.879185</td>\n",
       "      <td>85.854236</td>\n",
       "      <td>14.846809</td>\n",
       "      <td>21.778621</td>\n",
       "      <td>5.217457</td>\n",
       "      <td>0.499648</td>\n",
       "      <td>0.457187</td>\n",
       "      <td>0.488974</td>\n",
       "      <td>0.465682</td>\n",
       "    </tr>\n",
       "    <tr>\n",
       "      <th>min</th>\n",
       "      <td>1.000000</td>\n",
       "      <td>0.700000</td>\n",
       "      <td>0.000000</td>\n",
       "      <td>0.300000</td>\n",
       "      <td>1.600000</td>\n",
       "      <td>0.000000</td>\n",
       "      <td>0.000000</td>\n",
       "      <td>0.000000</td>\n",
       "      <td>0.000000</td>\n",
       "    </tr>\n",
       "    <tr>\n",
       "      <th>25%</th>\n",
       "      <td>50.750000</td>\n",
       "      <td>74.375000</td>\n",
       "      <td>9.975000</td>\n",
       "      <td>12.750000</td>\n",
       "      <td>10.375000</td>\n",
       "      <td>0.000000</td>\n",
       "      <td>0.000000</td>\n",
       "      <td>0.000000</td>\n",
       "      <td>0.000000</td>\n",
       "    </tr>\n",
       "    <tr>\n",
       "      <th>50%</th>\n",
       "      <td>100.500000</td>\n",
       "      <td>149.750000</td>\n",
       "      <td>22.900000</td>\n",
       "      <td>25.750000</td>\n",
       "      <td>12.900000</td>\n",
       "      <td>1.000000</td>\n",
       "      <td>0.000000</td>\n",
       "      <td>0.000000</td>\n",
       "      <td>0.000000</td>\n",
       "    </tr>\n",
       "    <tr>\n",
       "      <th>75%</th>\n",
       "      <td>150.250000</td>\n",
       "      <td>218.825000</td>\n",
       "      <td>36.525000</td>\n",
       "      <td>45.100000</td>\n",
       "      <td>17.400000</td>\n",
       "      <td>1.000000</td>\n",
       "      <td>1.000000</td>\n",
       "      <td>1.000000</td>\n",
       "      <td>1.000000</td>\n",
       "    </tr>\n",
       "    <tr>\n",
       "      <th>max</th>\n",
       "      <td>200.000000</td>\n",
       "      <td>296.400000</td>\n",
       "      <td>49.600000</td>\n",
       "      <td>114.000000</td>\n",
       "      <td>27.000000</td>\n",
       "      <td>1.000000</td>\n",
       "      <td>1.000000</td>\n",
       "      <td>1.000000</td>\n",
       "      <td>1.000000</td>\n",
       "    </tr>\n",
       "  </tbody>\n",
       "</table>\n",
       "</div>"
      ],
      "text/plain": [
       "          segment      google    facebook   instagram       sales    is_large  \\\n",
       "count  200.000000  200.000000  200.000000  200.000000  200.000000  200.000000   \n",
       "mean   100.500000  147.042500   23.264000   30.554000   14.022500    0.540000   \n",
       "std     57.879185   85.854236   14.846809   21.778621    5.217457    0.499648   \n",
       "min      1.000000    0.700000    0.000000    0.300000    1.600000    0.000000   \n",
       "25%     50.750000   74.375000    9.975000   12.750000   10.375000    0.000000   \n",
       "50%    100.500000  149.750000   22.900000   25.750000   12.900000    1.000000   \n",
       "75%    150.250000  218.825000   36.525000   45.100000   17.400000    1.000000   \n",
       "max    200.000000  296.400000   49.600000  114.000000   27.000000    1.000000   \n",
       "\n",
       "            rural    suburban       urban  \n",
       "count  200.000000  200.000000  200.000000  \n",
       "mean     0.295000    0.390000    0.315000  \n",
       "std      0.457187    0.488974    0.465682  \n",
       "min      0.000000    0.000000    0.000000  \n",
       "25%      0.000000    0.000000    0.000000  \n",
       "50%      0.000000    0.000000    0.000000  \n",
       "75%      1.000000    1.000000    1.000000  \n",
       "max      1.000000    1.000000    1.000000  "
      ]
     },
     "execution_count": 10,
     "metadata": {},
     "output_type": "execute_result"
    }
   ],
   "source": [
    "df.describe()"
   ]
  },
  {
   "cell_type": "markdown",
   "id": "d6dbff52",
   "metadata": {},
   "source": [
    "Looking at the mean values, it seems like a large amount of budget is allocated to Google compared to Facebook and Instagram"
   ]
  },
  {
   "cell_type": "markdown",
   "id": "e4c38c64",
   "metadata": {},
   "source": [
    "### Relationship between sales and categorical features"
   ]
  },
  {
   "cell_type": "code",
   "execution_count": 11,
   "id": "8546349e",
   "metadata": {},
   "outputs": [
    {
     "data": {
      "text/plain": [
       "<AxesSubplot:xlabel='area', ylabel='sales'>"
      ]
     },
     "execution_count": 11,
     "metadata": {},
     "output_type": "execute_result"
    },
    {
     "data": {
      "image/png": "[encoded data removed]",
      "text/plain": [
       "<Figure size 1080x504 with 2 Axes>"
      ]
     },
     "metadata": {},
     "output_type": "display_data"
    }
   ],
   "source": [
    "# Categorical features = size, area\n",
    "\n",
    "sns.set(style='whitegrid')\n",
    "main, sub = plt.subplots(1,2, figsize=(15,7))\n",
    "sns.boxplot(data=df, x='size', y='sales', palette='mako', ax=sub[0])\n",
    "sns.boxplot(data=df, x='area', y='sales', palette='mako', ax=sub[1])"
   ]
  },
  {
   "cell_type": "markdown",
   "id": "d004c5a8",
   "metadata": {},
   "source": [
    "For both features the median sales is about equal. It looks like there is not much influence between market size and area with sales."
   ]
  },
  {
   "cell_type": "code",
   "execution_count": 12,
   "id": "fed58376",
   "metadata": {},
   "outputs": [
    {
     "data": {
      "text/plain": [
       "<AxesSubplot:xlabel='area', ylabel='sales'>"
      ]
     },
     "execution_count": 12,
     "metadata": {},
     "output_type": "execute_result"
    },
    {
     "data": {
      "image/png": "[encoded data removed]",
      "text/plain": [
       "<Figure size 864x360 with 2 Axes>"
      ]
     },
     "metadata": {},
     "output_type": "display_data"
    }
   ],
   "source": [
    "sns.set(style='white')\n",
    "main, sub = plt.subplots(1,2, figsize=(12,5))\n",
    "sns.barplot(data=df, x='size', y='sales', palette='mako', ci=None, ax=sub[0])\n",
    "sns.barplot(data=df, x='area', y='sales', palette='mako', ci=None, ax=sub[1])"
   ]
  },
  {
   "cell_type": "markdown",
   "id": "303be61f",
   "metadata": {},
   "source": [
    "Sales different of about ~1k units or $5 million. The company can get higher sales if focused on large market size and in urban areas."
   ]
  },
  {
   "cell_type": "markdown",
   "id": "d7736c3c",
   "metadata": {},
   "source": [
    "## Relationship between sales and continuous features"
   ]
  },
  {
   "cell_type": "markdown",
   "id": "f1e12d5c",
   "metadata": {},
   "source": [
    "### Regression Plot"
   ]
  },
  {
   "cell_type": "code",
   "execution_count": 13,
   "id": "1c96ded0",
   "metadata": {},
   "outputs": [
    {
     "data": {
      "text/plain": [
       "<AxesSubplot:xlabel='instagram', ylabel='sales'>"
      ]
     },
     "execution_count": 13,
     "metadata": {},
     "output_type": "execute_result"
    },
    {
     "data": {
      "image/png": "[encoded data removed]",
      "text/plain": [
       "<Figure size 1440x576 with 3 Axes>"
      ]
     },
     "metadata": {},
     "output_type": "display_data"
    }
   ],
   "source": [
    "sns.set(style='whitegrid')\n",
    "main, sub = plt.subplots(1,3, figsize=(20,8))\n",
    "sns.regplot(data=df, x='google', y='sales', color='darkcyan', ax=sub[0])\n",
    "sns.regplot(data=df, x='facebook', y='sales', color='darkcyan', ax=sub[1])\n",
    "sns.regplot(data=df, x='instagram', y='sales', color='darkcyan', ax=sub[2])"
   ]
  },
  {
   "cell_type": "markdown",
   "id": "d5ab1f84",
   "metadata": {},
   "source": [
    "As seen from the plots, the trend or slope for Google is higher (high predictability) and can be seen more clearly compared to Facebook and Instagram where they are more scattered and random. "
   ]
  },
  {
   "cell_type": "markdown",
   "id": "93eebc95",
   "metadata": {},
   "source": [
    "### Correlations between features"
   ]
  },
  {
   "cell_type": "code",
   "execution_count": 15,
   "id": "90c95784",
   "metadata": {},
   "outputs": [
    {
     "data": {
      "text/html": [
       "<div>\n",
       "<style scoped>\n",
       "    .dataframe tbody tr th:only-of-type {\n",
       "        vertical-align: middle;\n",
       "    }\n",
       "\n",
       "    .dataframe tbody tr th {\n",
       "        vertical-align: top;\n",
       "    }\n",
       "\n",
       "    .dataframe thead th {\n",
       "        text-align: right;\n",
       "    }\n",
       "</style>\n",
       "<table border=\"1\" class=\"dataframe\">\n",
       "  <thead>\n",
       "    <tr style=\"text-align: right;\">\n",
       "      <th></th>\n",
       "      <th>segment</th>\n",
       "      <th>google</th>\n",
       "      <th>facebook</th>\n",
       "      <th>instagram</th>\n",
       "      <th>sales</th>\n",
       "      <th>is_large</th>\n",
       "      <th>rural</th>\n",
       "      <th>suburban</th>\n",
       "      <th>urban</th>\n",
       "    </tr>\n",
       "  </thead>\n",
       "  <tbody>\n",
       "    <tr>\n",
       "      <th>segment</th>\n",
       "      <td>1.000000</td>\n",
       "      <td>0.017715</td>\n",
       "      <td>-0.110680</td>\n",
       "      <td>-0.154944</td>\n",
       "      <td>-0.051616</td>\n",
       "      <td>-0.110514</td>\n",
       "      <td>-0.035417</td>\n",
       "      <td>0.006747</td>\n",
       "      <td>0.027686</td>\n",
       "    </tr>\n",
       "    <tr>\n",
       "      <th>google</th>\n",
       "      <td>0.017715</td>\n",
       "      <td>1.000000</td>\n",
       "      <td>0.054809</td>\n",
       "      <td>0.056648</td>\n",
       "      <td>0.782224</td>\n",
       "      <td>0.131097</td>\n",
       "      <td>0.028420</td>\n",
       "      <td>-0.004299</td>\n",
       "      <td>-0.023388</td>\n",
       "    </tr>\n",
       "    <tr>\n",
       "      <th>facebook</th>\n",
       "      <td>-0.110680</td>\n",
       "      <td>0.054809</td>\n",
       "      <td>1.000000</td>\n",
       "      <td>0.354104</td>\n",
       "      <td>0.576223</td>\n",
       "      <td>-0.078994</td>\n",
       "      <td>-0.006793</td>\n",
       "      <td>-0.068522</td>\n",
       "      <td>0.078618</td>\n",
       "    </tr>\n",
       "    <tr>\n",
       "      <th>instagram</th>\n",
       "      <td>-0.154944</td>\n",
       "      <td>0.056648</td>\n",
       "      <td>0.354104</td>\n",
       "      <td>1.000000</td>\n",
       "      <td>0.228299</td>\n",
       "      <td>0.016979</td>\n",
       "      <td>0.037001</td>\n",
       "      <td>-0.046722</td>\n",
       "      <td>0.012733</td>\n",
       "    </tr>\n",
       "    <tr>\n",
       "      <th>sales</th>\n",
       "      <td>-0.051616</td>\n",
       "      <td>0.782224</td>\n",
       "      <td>0.576223</td>\n",
       "      <td>0.228299</td>\n",
       "      <td>1.000000</td>\n",
       "      <td>0.061626</td>\n",
       "      <td>0.013425</td>\n",
       "      <td>-0.062942</td>\n",
       "      <td>0.052911</td>\n",
       "    </tr>\n",
       "    <tr>\n",
       "      <th>is_large</th>\n",
       "      <td>-0.110514</td>\n",
       "      <td>0.131097</td>\n",
       "      <td>-0.078994</td>\n",
       "      <td>0.016979</td>\n",
       "      <td>0.061626</td>\n",
       "      <td>1.000000</td>\n",
       "      <td>0.157068</td>\n",
       "      <td>-0.043605</td>\n",
       "      <td>-0.108417</td>\n",
       "    </tr>\n",
       "    <tr>\n",
       "      <th>rural</th>\n",
       "      <td>-0.035417</td>\n",
       "      <td>0.028420</td>\n",
       "      <td>-0.006793</td>\n",
       "      <td>0.037001</td>\n",
       "      <td>0.013425</td>\n",
       "      <td>0.157068</td>\n",
       "      <td>1.000000</td>\n",
       "      <td>-0.517230</td>\n",
       "      <td>-0.438658</td>\n",
       "    </tr>\n",
       "    <tr>\n",
       "      <th>suburban</th>\n",
       "      <td>0.006747</td>\n",
       "      <td>-0.004299</td>\n",
       "      <td>-0.068522</td>\n",
       "      <td>-0.046722</td>\n",
       "      <td>-0.062942</td>\n",
       "      <td>-0.043605</td>\n",
       "      <td>-0.517230</td>\n",
       "      <td>1.000000</td>\n",
       "      <td>-0.542222</td>\n",
       "    </tr>\n",
       "    <tr>\n",
       "      <th>urban</th>\n",
       "      <td>0.027686</td>\n",
       "      <td>-0.023388</td>\n",
       "      <td>0.078618</td>\n",
       "      <td>0.012733</td>\n",
       "      <td>0.052911</td>\n",
       "      <td>-0.108417</td>\n",
       "      <td>-0.438658</td>\n",
       "      <td>-0.542222</td>\n",
       "      <td>1.000000</td>\n",
       "    </tr>\n",
       "  </tbody>\n",
       "</table>\n",
       "</div>"
      ],
      "text/plain": [
       "            segment    google  facebook  instagram     sales  is_large  \\\n",
       "segment    1.000000  0.017715 -0.110680  -0.154944 -0.051616 -0.110514   \n",
       "google     0.017715  1.000000  0.054809   0.056648  0.782224  0.131097   \n",
       "facebook  -0.110680  0.054809  1.000000   0.354104  0.576223 -0.078994   \n",
       "instagram -0.154944  0.056648  0.354104   1.000000  0.228299  0.016979   \n",
       "sales     -0.051616  0.782224  0.576223   0.228299  1.000000  0.061626   \n",
       "is_large  -0.110514  0.131097 -0.078994   0.016979  0.061626  1.000000   \n",
       "rural     -0.035417  0.028420 -0.006793   0.037001  0.013425  0.157068   \n",
       "suburban   0.006747 -0.004299 -0.068522  -0.046722 -0.062942 -0.043605   \n",
       "urban      0.027686 -0.023388  0.078618   0.012733  0.052911 -0.108417   \n",
       "\n",
       "              rural  suburban     urban  \n",
       "segment   -0.035417  0.006747  0.027686  \n",
       "google     0.028420 -0.004299 -0.023388  \n",
       "facebook  -0.006793 -0.068522  0.078618  \n",
       "instagram  0.037001 -0.046722  0.012733  \n",
       "sales      0.013425 -0.062942  0.052911  \n",
       "is_large   0.157068 -0.043605 -0.108417  \n",
       "rural      1.000000 -0.517230 -0.438658  \n",
       "suburban  -0.517230  1.000000 -0.542222  \n",
       "urban     -0.438658 -0.542222  1.000000  "
      ]
     },
     "execution_count": 15,
     "metadata": {},
     "output_type": "execute_result"
    }
   ],
   "source": [
    "corr = df.corr()\n",
    "corr"
   ]
  },
  {
   "cell_type": "code",
   "execution_count": 16,
   "id": "4188c499",
   "metadata": {},
   "outputs": [
    {
     "data": {
      "text/plain": [
       "<AxesSubplot:>"
      ]
     },
     "execution_count": 16,
     "metadata": {},
     "output_type": "execute_result"
    },
    {
     "data": {
      "image/png": "[encoded data removed]",
      "text/plain": [
       "<Figure size 864x720 with 2 Axes>"
      ]
     },
     "metadata": {},
     "output_type": "display_data"
    }
   ],
   "source": [
    "# Correlation Matrix\n",
    "\n",
    "sns.set(rc={'figure.figsize':(12,10)})\n",
    "#cmap = sns.diverging_palette(240, 10, n=9)\n",
    "sns.heatmap(corr, cmap='mako', linewidths=0.1, cbar_kws={\"shrink\":.8}, annot=True, vmax=1,vmin=-.4)"
   ]
  },
  {
   "cell_type": "code",
   "execution_count": 17,
   "id": "d3671ae9",
   "metadata": {},
   "outputs": [
    {
     "data": {
      "text/plain": [
       "Text(0.5, 1.0, 'Correlations with Sales')"
      ]
     },
     "execution_count": 17,
     "metadata": {},
     "output_type": "execute_result"
    },
    {
     "data": {
      "image/png": "[encoded data removed]",
      "text/plain": [
       "<Figure size 288x576 with 2 Axes>"
      ]
     },
     "metadata": {},
     "output_type": "display_data"
    }
   ],
   "source": [
    "# Correlations with Sales\n",
    "\n",
    "sns.set(rc={'figure.figsize':(4,8)})\n",
    "heatmap = sns.heatmap(df.corr()[['sales']].sort_values(by='sales', ascending=False), annot=True, cmap='mako', vmax=1, vmin=-.4, cbar_kws={\"shrink\":.8})\n",
    "heatmap.set_title('Correlations with Sales', fontdict={'fontsize':12}, pad=16)"
   ]
  },
  {
   "cell_type": "markdown",
   "id": "1b72dc02",
   "metadata": {},
   "source": [
    "We can see here that Google has the highest correlation with sales followed by Facebook and Instagram, proving the trend shown in the regression plots before.\n",
    "\n",
    "Market size and area has very low correlations with sales."
   ]
  },
  {
   "cell_type": "markdown",
   "id": "af5c18ed",
   "metadata": {},
   "source": [
    "## Modelling the Data"
   ]
  },
  {
   "cell_type": "code",
   "execution_count": 18,
   "id": "d35c80fa",
   "metadata": {},
   "outputs": [
    {
     "data": {
      "text/html": [
       "<style>#sk-container-id-1 {color: black;background-color: white;}#sk-container-id-1 pre{padding: 0;}#sk-container-id-1 div.sk-toggleable {background-color: white;}#sk-container-id-1 label.sk-toggleable__label {cursor: pointer;display: block;width: 100%;margin-bottom: 0;padding: 0.3em;box-sizing: border-box;text-align: center;}#sk-container-id-1 label.sk-toggleable__label-arrow:before {content: \"▸\";float: left;margin-right: 0.25em;color: #696969;}#sk-container-id-1 label.sk-toggleable__label-arrow:hover:before {color: black;}#sk-container-id-1 div.sk-estimator:hover label.sk-toggleable__label-arrow:before {color: black;}#sk-container-id-1 div.sk-toggleable__content {max-height: 0;max-width: 0;overflow: hidden;text-align: left;background-color: #f0f8ff;}#sk-container-id-1 div.sk-toggleable__content pre {margin: 0.2em;color: black;border-radius: 0.25em;background-color: #f0f8ff;}#sk-container-id-1 input.sk-toggleable__control:checked~div.sk-toggleable__content {max-height: 200px;max-width: 100%;overflow: auto;}#sk-container-id-1 input.sk-toggleable__control:checked~label.sk-toggleable__label-arrow:before {content: \"▾\";}#sk-container-id-1 div.sk-estimator input.sk-toggleable__control:checked~label.sk-toggleable__label {background-color: #d4ebff;}#sk-container-id-1 div.sk-label input.sk-toggleable__control:checked~label.sk-toggleable__label {background-color: #d4ebff;}#sk-container-id-1 input.sk-hidden--visually {border: 0;clip: rect(1px 1px 1px 1px);clip: rect(1px, 1px, 1px, 1px);height: 1px;margin: -1px;overflow: hidden;padding: 0;position: absolute;width: 1px;}#sk-container-id-1 div.sk-estimator {font-family: monospace;background-color: #f0f8ff;border: 1px dotted black;border-radius: 0.25em;box-sizing: border-box;margin-bottom: 0.5em;}#sk-container-id-1 div.sk-estimator:hover {background-color: #d4ebff;}#sk-container-id-1 div.sk-parallel-item::after {content: \"\";width: 100%;border-bottom: 1px solid gray;flex-grow: 1;}#sk-container-id-1 div.sk-label:hover label.sk-toggleable__label {background-color: #d4ebff;}#sk-container-id-1 div.sk-serial::before {content: \"\";position: absolute;border-left: 1px solid gray;box-sizing: border-box;top: 0;bottom: 0;left: 50%;z-index: 0;}#sk-container-id-1 div.sk-serial {display: flex;flex-direction: column;align-items: center;background-color: white;padding-right: 0.2em;padding-left: 0.2em;position: relative;}#sk-container-id-1 div.sk-item {position: relative;z-index: 1;}#sk-container-id-1 div.sk-parallel {display: flex;align-items: stretch;justify-content: center;background-color: white;position: relative;}#sk-container-id-1 div.sk-item::before, #sk-container-id-1 div.sk-parallel-item::before {content: \"\";position: absolute;border-left: 1px solid gray;box-sizing: border-box;top: 0;bottom: 0;left: 50%;z-index: -1;}#sk-container-id-1 div.sk-parallel-item {display: flex;flex-direction: column;z-index: 1;position: relative;background-color: white;}#sk-container-id-1 div.sk-parallel-item:first-child::after {align-self: flex-end;width: 50%;}#sk-container-id-1 div.sk-parallel-item:last-child::after {align-self: flex-start;width: 50%;}#sk-container-id-1 div.sk-parallel-item:only-child::after {width: 0;}#sk-container-id-1 div.sk-dashed-wrapped {border: 1px dashed gray;margin: 0 0.4em 0.5em 0.4em;box-sizing: border-box;padding-bottom: 0.4em;background-color: white;}#sk-container-id-1 div.sk-label label {font-family: monospace;font-weight: bold;display: inline-block;line-height: 1.2em;}#sk-container-id-1 div.sk-label-container {text-align: center;}#sk-container-id-1 div.sk-container {/* jupyter's `normalize.less` sets `[hidden] { display: none; }` but bootstrap.min.css set `[hidden] { display: none !important; }` so we also need the `!important` here to be able to override the default hidden behavior on the sphinx rendered scikit-learn.org. See: https://github.com/scikit-learn/scikit-learn/issues/21755 */display: inline-block !important;position: relative;}#sk-container-id-1 div.sk-text-repr-fallback {display: none;}</style><div id=\"sk-container-id-1\" class=\"sk-top-container\"><div class=\"sk-text-repr-fallback\"><pre>LinearRegression()</pre><b>In a Jupyter environment, please rerun this cell to show the HTML representation or trust the notebook. <br />On GitHub, the HTML representation is unable to render, please try loading this page with nbviewer.org.</b></div><div class=\"sk-container\" hidden><div class=\"sk-item\"><div class=\"sk-estimator sk-toggleable\"><input class=\"sk-toggleable__control sk-hidden--visually\" id=\"sk-estimator-id-1\" type=\"checkbox\" checked><label for=\"sk-estimator-id-1\" class=\"sk-toggleable__label sk-toggleable__label-arrow\">LinearRegression</label><div class=\"sk-toggleable__content\"><pre>LinearRegression()</pre></div></div></div></div></div>"
      ],
      "text/plain": [
       "LinearRegression()"
      ]
     },
     "execution_count": 18,
     "metadata": {},
     "output_type": "execute_result"
    }
   ],
   "source": [
    "columns = ['google', 'facebook', 'instagram', 'is_large', 'rural', 'suburban', 'urban']\n",
    "\n",
    "X = df[columns] # x (other variables/features)\n",
    "y = df['sales'] # y (target variable)\n",
    "\n",
    "model = LinearRegression()\n",
    "model.fit(X,y)"
   ]
  },
  {
   "cell_type": "code",
   "execution_count": 19,
   "id": "6b32f2b0",
   "metadata": {},
   "outputs": [
    {
     "name": "stdout",
     "output_type": "stream",
     "text": [
      "R-square Score: 0.8981611875394304\n",
      "Intercept: 2.928049332918782\n",
      "Coefficients: [ 0.04574401  0.1878667  -0.0010877   0.07739661 -0.05385834 -0.16042133\n",
      "  0.21427968]\n"
     ]
    }
   ],
   "source": [
    "score = model.score(X,y)\n",
    "c = model.intercept_\n",
    "m = model.coef_\n",
    "\n",
    "print('R-square Score:', score)\n",
    "print('Intercept:', c)\n",
    "print('Coefficients:', m)"
   ]
  },
  {
   "cell_type": "code",
   "execution_count": 20,
   "id": "3b8a2e87",
   "metadata": {},
   "outputs": [
    {
     "name": "stdout",
     "output_type": "stream",
     "text": [
      "Coefficient for google: 0.04574401036331377\n",
      "Coefficient for facebook: 0.1878666955252582\n",
      "Coefficient for instagram: -0.0010876977267109955\n",
      "Coefficient for is_large: 0.07739660749747974\n",
      "Coefficient for rural: -0.0538583438308713\n",
      "Coefficient for suburban: -0.16042133399045805\n",
      "Coefficient for urban: 0.21427967782132934\n"
     ]
    }
   ],
   "source": [
    "coef_data = zip(columns,m)\n",
    "\n",
    "for col, val in coef_data:\n",
    "  print(f'Coefficient for {col}: {val}')"
   ]
  },
  {
   "cell_type": "code",
   "execution_count": 21,
   "id": "082efc62",
   "metadata": {},
   "outputs": [
    {
     "data": {
      "text/html": [
       "<div>\n",
       "<style scoped>\n",
       "    .dataframe tbody tr th:only-of-type {\n",
       "        vertical-align: middle;\n",
       "    }\n",
       "\n",
       "    .dataframe tbody tr th {\n",
       "        vertical-align: top;\n",
       "    }\n",
       "\n",
       "    .dataframe thead th {\n",
       "        text-align: right;\n",
       "    }\n",
       "</style>\n",
       "<table border=\"1\" class=\"dataframe\">\n",
       "  <thead>\n",
       "    <tr style=\"text-align: right;\">\n",
       "      <th></th>\n",
       "      <th>Features</th>\n",
       "      <th>Coefficients</th>\n",
       "    </tr>\n",
       "  </thead>\n",
       "  <tbody>\n",
       "    <tr>\n",
       "      <th>1</th>\n",
       "      <td>facebook</td>\n",
       "      <td>0.187867</td>\n",
       "    </tr>\n",
       "    <tr>\n",
       "      <th>0</th>\n",
       "      <td>google</td>\n",
       "      <td>0.045744</td>\n",
       "    </tr>\n",
       "    <tr>\n",
       "      <th>2</th>\n",
       "      <td>instagram</td>\n",
       "      <td>-0.001088</td>\n",
       "    </tr>\n",
       "  </tbody>\n",
       "</table>\n",
       "</div>"
      ],
      "text/plain": [
       "    Features  Coefficients\n",
       "1   facebook      0.187867\n",
       "0     google      0.045744\n",
       "2  instagram     -0.001088"
      ]
     },
     "execution_count": 21,
     "metadata": {},
     "output_type": "execute_result"
    }
   ],
   "source": [
    "list_of_coef = list(zip(columns[:3],m[:3]))\n",
    "#print(list_of_coef) \n",
    "\n",
    "coef_df = pd.DataFrame(list_of_coef, columns = ['Features', 'Coefficients']).sort_values(['Coefficients'], ascending=False)\n",
    "coef_df"
   ]
  },
  {
   "cell_type": "code",
   "execution_count": 22,
   "id": "9b69c60d",
   "metadata": {},
   "outputs": [
    {
     "data": {
      "text/html": [
       "<div>\n",
       "<style scoped>\n",
       "    .dataframe tbody tr th:only-of-type {\n",
       "        vertical-align: middle;\n",
       "    }\n",
       "\n",
       "    .dataframe tbody tr th {\n",
       "        vertical-align: top;\n",
       "    }\n",
       "\n",
       "    .dataframe thead th {\n",
       "        text-align: right;\n",
       "    }\n",
       "</style>\n",
       "<table border=\"1\" class=\"dataframe\">\n",
       "  <thead>\n",
       "    <tr style=\"text-align: right;\">\n",
       "      <th></th>\n",
       "      <th>Features</th>\n",
       "      <th>Coefficients</th>\n",
       "    </tr>\n",
       "  </thead>\n",
       "  <tbody>\n",
       "    <tr>\n",
       "      <th>2</th>\n",
       "      <td>urban</td>\n",
       "      <td>0.214280</td>\n",
       "    </tr>\n",
       "    <tr>\n",
       "      <th>0</th>\n",
       "      <td>rural</td>\n",
       "      <td>-0.053858</td>\n",
       "    </tr>\n",
       "    <tr>\n",
       "      <th>1</th>\n",
       "      <td>suburban</td>\n",
       "      <td>-0.160421</td>\n",
       "    </tr>\n",
       "  </tbody>\n",
       "</table>\n",
       "</div>"
      ],
      "text/plain": [
       "   Features  Coefficients\n",
       "2     urban      0.214280\n",
       "0     rural     -0.053858\n",
       "1  suburban     -0.160421"
      ]
     },
     "execution_count": 22,
     "metadata": {},
     "output_type": "execute_result"
    }
   ],
   "source": [
    "list_of_coef2 = list(zip(columns[4:],m[4:]))\n",
    "#print(list_of_coef) \n",
    "\n",
    "coef_df2 = pd.DataFrame(list_of_coef2, columns = ['Features', 'Coefficients']).sort_values(['Coefficients'], ascending=False)\n",
    "coef_df2"
   ]
  },
  {
   "cell_type": "markdown",
   "id": "9ecc3e68",
   "metadata": {},
   "source": [
    "Among the 3 ads platforms, Facebook has the highest coefficient followed by Google and Instagram. This will help to determine the ratio for our budget allocation (highest to lowest) - higher coefficients would mean higher revenue (no. of units sold for every $1 spent)\n",
    "\n",
    "Among the 3 areas, urban has the highest coefficient so we will be focusing on urban and large market."
   ]
  },
  {
   "cell_type": "markdown",
   "id": "cd324143",
   "metadata": {},
   "source": [
    "### Scenario 1"
   ]
  },
  {
   "cell_type": "code",
   "execution_count": 23,
   "id": "b1af8f91",
   "metadata": {},
   "outputs": [
    {
     "name": "stdout",
     "output_type": "stream",
     "text": [
      "Predicted units sold: 18.70 units\n",
      "Revenue: $ 93,478,121.93\n"
     ]
    }
   ],
   "source": [
    "pred_sales1 = [10, 80, 10, 1, 0, 0, 1]\n",
    "print(f'Predicted units sold: {model.predict([pred_sales1])[0]:.2f} units')\n",
    "\n",
    "unit_price = 5000\n",
    "\n",
    "revenue1 = model.predict([pred_sales1])[0] * 1000 * unit_price\n",
    "print(f'Revenue: $ {revenue1:,.2f}')"
   ]
  },
  {
   "cell_type": "markdown",
   "id": "7ef541b4",
   "metadata": {},
   "source": [
    "### Scenario 2"
   ]
  },
  {
   "cell_type": "code",
   "execution_count": 24,
   "id": "c84d7d0e",
   "metadata": {},
   "outputs": [
    {
     "name": "stdout",
     "output_type": "stream",
     "text": [
      "Predicted units sold: 17.27 units\n",
      "Revenue: $ 86,371,987.68\n"
     ]
    }
   ],
   "source": [
    "pred_sales2 = [20, 70, 10, 1, 0, 0, 1]\n",
    "print(f'Predicted units sold: {model.predict([pred_sales2])[0]:.2f} units')\n",
    "\n",
    "unit_price = 5000\n",
    "\n",
    "revenue2 = model.predict([pred_sales2])[0] * 1000 * unit_price\n",
    "print(f'Revenue: $ {revenue2:,.2f}')"
   ]
  },
  {
   "cell_type": "markdown",
   "id": "c3b0dd69",
   "metadata": {},
   "source": [
    "### Scenario 3"
   ]
  },
  {
   "cell_type": "code",
   "execution_count": 25,
   "id": "3d77ed5f",
   "metadata": {},
   "outputs": [
    {
     "name": "stdout",
     "output_type": "stream",
     "text": [
      "Predicted units sold: 15.85 units\n",
      "Revenue: $ 79,265,853.42\n"
     ]
    }
   ],
   "source": [
    "pred_sales3 = [30, 60, 10, 1, 0, 0, 1]\n",
    "print(f'Predicted units sold: {model.predict([pred_sales3])[0]:.2f} units')\n",
    "\n",
    "unit_price = 5000\n",
    "\n",
    "revenue3 = model.predict([pred_sales3])[0] * 1000 * unit_price\n",
    "print(f'Revenue: $ {revenue3:,.2f}')"
   ]
  },
  {
   "cell_type": "markdown",
   "id": "8a30f39d",
   "metadata": {},
   "source": [
    "### Scenario 4"
   ]
  },
  {
   "cell_type": "code",
   "execution_count": 27,
   "id": "44b37b71",
   "metadata": {},
   "outputs": [
    {
     "name": "stdout",
     "output_type": "stream",
     "text": [
      "Predicted units sold: 18.22 units\n",
      "Revenue: $ 91,095,847.51\n"
     ]
    }
   ],
   "source": [
    "pred_sales4 = [20, 75, 5, 1, 0, 0, 1]\n",
    "print(f'Predicted units sold: {model.predict([pred_sales4])[0]:.2f} units')\n",
    "\n",
    "unit_price = 5000\n",
    "\n",
    "revenue4 = model.predict([pred_sales4])[0] * 1000 * unit_price\n",
    "print(f'Revenue: $ {revenue4:,.2f}')"
   ]
  },
  {
   "cell_type": "markdown",
   "id": "34ce9082",
   "metadata": {},
   "source": [
    "### Scenario 5"
   ]
  },
  {
   "cell_type": "code",
   "execution_count": 28,
   "id": "9c25d220",
   "metadata": {},
   "outputs": [
    {
     "name": "stdout",
     "output_type": "stream",
     "text": [
      "Predicted units sold: 13.96 units\n",
      "Revenue: $ 69,818,133.75\n"
     ]
    }
   ],
   "source": [
    "pred_sales5 = [30, 50, 20, 1, 0, 0, 1]\n",
    "print(f'Predicted units sold: {model.predict([pred_sales5])[0]:.2f} units')\n",
    "\n",
    "unit_price = 5000\n",
    "\n",
    "revenue5 = model.predict([pred_sales5])[0] * 1000 * unit_price\n",
    "print(f'Revenue: $ {revenue5:,.2f}')"
   ]
  },
  {
   "cell_type": "markdown",
   "id": "369cac75",
   "metadata": {},
   "source": [
    "## Interpretation"
   ]
  },
  {
   "cell_type": "code",
   "execution_count": 29,
   "id": "4ca8385c",
   "metadata": {},
   "outputs": [
    {
     "data": {
      "text/html": [
       "<style type=\"text/css\">\n",
       "</style>\n",
       "<table id=\"T_a6cd9_\">\n",
       "  <thead>\n",
       "    <tr>\n",
       "      <th class=\"blank level0\" >&nbsp;</th>\n",
       "      <th class=\"col_heading level0 col0\" >google</th>\n",
       "      <th class=\"col_heading level0 col1\" >facebook</th>\n",
       "      <th class=\"col_heading level0 col2\" >instagram</th>\n",
       "      <th class=\"col_heading level0 col3\" >is_large</th>\n",
       "      <th class=\"col_heading level0 col4\" >rural</th>\n",
       "      <th class=\"col_heading level0 col5\" >suburban</th>\n",
       "      <th class=\"col_heading level0 col6\" >urban</th>\n",
       "      <th class=\"col_heading level0 col7\" >revenue</th>\n",
       "    </tr>\n",
       "  </thead>\n",
       "  <tbody>\n",
       "    <tr>\n",
       "      <th id=\"T_a6cd9_level0_row0\" class=\"row_heading level0 row0\" >Scenario 1</th>\n",
       "      <td id=\"T_a6cd9_row0_col0\" class=\"data row0 col0\" >10</td>\n",
       "      <td id=\"T_a6cd9_row0_col1\" class=\"data row0 col1\" >80</td>\n",
       "      <td id=\"T_a6cd9_row0_col2\" class=\"data row0 col2\" >10</td>\n",
       "      <td id=\"T_a6cd9_row0_col3\" class=\"data row0 col3\" >1</td>\n",
       "      <td id=\"T_a6cd9_row0_col4\" class=\"data row0 col4\" >0</td>\n",
       "      <td id=\"T_a6cd9_row0_col5\" class=\"data row0 col5\" >0</td>\n",
       "      <td id=\"T_a6cd9_row0_col6\" class=\"data row0 col6\" >1</td>\n",
       "      <td id=\"T_a6cd9_row0_col7\" class=\"data row0 col7\" >93478121.933121</td>\n",
       "    </tr>\n",
       "    <tr>\n",
       "      <th id=\"T_a6cd9_level0_row1\" class=\"row_heading level0 row1\" >Scenario 2</th>\n",
       "      <td id=\"T_a6cd9_row1_col0\" class=\"data row1 col0\" >20</td>\n",
       "      <td id=\"T_a6cd9_row1_col1\" class=\"data row1 col1\" >70</td>\n",
       "      <td id=\"T_a6cd9_row1_col2\" class=\"data row1 col2\" >10</td>\n",
       "      <td id=\"T_a6cd9_row1_col3\" class=\"data row1 col3\" >1</td>\n",
       "      <td id=\"T_a6cd9_row1_col4\" class=\"data row1 col4\" >0</td>\n",
       "      <td id=\"T_a6cd9_row1_col5\" class=\"data row1 col5\" >0</td>\n",
       "      <td id=\"T_a6cd9_row1_col6\" class=\"data row1 col6\" >1</td>\n",
       "      <td id=\"T_a6cd9_row1_col7\" class=\"data row1 col7\" >86371987.675024</td>\n",
       "    </tr>\n",
       "    <tr>\n",
       "      <th id=\"T_a6cd9_level0_row2\" class=\"row_heading level0 row2\" >Scenario 3</th>\n",
       "      <td id=\"T_a6cd9_row2_col0\" class=\"data row2 col0\" >30</td>\n",
       "      <td id=\"T_a6cd9_row2_col1\" class=\"data row2 col1\" >60</td>\n",
       "      <td id=\"T_a6cd9_row2_col2\" class=\"data row2 col2\" >10</td>\n",
       "      <td id=\"T_a6cd9_row2_col3\" class=\"data row2 col3\" >1</td>\n",
       "      <td id=\"T_a6cd9_row2_col4\" class=\"data row2 col4\" >0</td>\n",
       "      <td id=\"T_a6cd9_row2_col5\" class=\"data row2 col5\" >0</td>\n",
       "      <td id=\"T_a6cd9_row2_col6\" class=\"data row2 col6\" >1</td>\n",
       "      <td id=\"T_a6cd9_row2_col7\" class=\"data row2 col7\" >79265853.416927</td>\n",
       "    </tr>\n",
       "    <tr>\n",
       "      <th id=\"T_a6cd9_level0_row3\" class=\"row_heading level0 row3\" >Scenario 4</th>\n",
       "      <td id=\"T_a6cd9_row3_col0\" class=\"data row3 col0\" >20</td>\n",
       "      <td id=\"T_a6cd9_row3_col1\" class=\"data row3 col1\" >75</td>\n",
       "      <td id=\"T_a6cd9_row3_col2\" class=\"data row3 col2\" >5</td>\n",
       "      <td id=\"T_a6cd9_row3_col3\" class=\"data row3 col3\" >1</td>\n",
       "      <td id=\"T_a6cd9_row3_col4\" class=\"data row3 col4\" >0</td>\n",
       "      <td id=\"T_a6cd9_row3_col5\" class=\"data row3 col5\" >0</td>\n",
       "      <td id=\"T_a6cd9_row3_col6\" class=\"data row3 col6\" >1</td>\n",
       "      <td id=\"T_a6cd9_row3_col7\" class=\"data row3 col7\" >91095847.506323</td>\n",
       "    </tr>\n",
       "    <tr>\n",
       "      <th id=\"T_a6cd9_level0_row4\" class=\"row_heading level0 row4\" >Scenario 5</th>\n",
       "      <td id=\"T_a6cd9_row4_col0\" class=\"data row4 col0\" >30</td>\n",
       "      <td id=\"T_a6cd9_row4_col1\" class=\"data row4 col1\" >50</td>\n",
       "      <td id=\"T_a6cd9_row4_col2\" class=\"data row4 col2\" >20</td>\n",
       "      <td id=\"T_a6cd9_row4_col3\" class=\"data row4 col3\" >1</td>\n",
       "      <td id=\"T_a6cd9_row4_col4\" class=\"data row4 col4\" >0</td>\n",
       "      <td id=\"T_a6cd9_row4_col5\" class=\"data row4 col5\" >0</td>\n",
       "      <td id=\"T_a6cd9_row4_col6\" class=\"data row4 col6\" >1</td>\n",
       "      <td id=\"T_a6cd9_row4_col7\" class=\"data row4 col7\" >69818133.754328</td>\n",
       "    </tr>\n",
       "  </tbody>\n",
       "</table>\n"
      ],
      "text/plain": [
       "<pandas.io.formats.style.Styler at 0x1ab171833d0>"
      ]
     },
     "execution_count": 29,
     "metadata": {},
     "output_type": "execute_result"
    }
   ],
   "source": [
    "pd.options.display.float_format = '{:,.2f}'.format\n",
    "\n",
    "revenue_df = pd.DataFrame(zip(pred_sales1, pred_sales2, pred_sales3, pred_sales4, pred_sales5)).T\n",
    "revenue_df.columns = columns\n",
    "revenue_df['revenue'] = [revenue1, revenue2, revenue3, revenue4, revenue5]\n",
    "revenue_df.rename(index={0: 'Scenario 1',\n",
    "                         1: 'Scenario 2',\n",
    "                         2: 'Scenario 3',\n",
    "                         3: 'Scenario 4',\n",
    "                         4: 'Scenario 5'}, inplace=True)\n",
    "\n",
    "highlight = lambda x: ['background: lightgreen' if x.name in [2] # tried to highlight row but not working\n",
    "                       else '' for i in x]\n",
    "\n",
    "revenue_df.style.apply(highlight, axis=1)"
   ]
  },
  {
   "cell_type": "markdown",
   "id": "4447f6b2",
   "metadata": {},
   "source": [
    "It is obvious that the more budget is allocated to Facebook ads, the more sales we will get. \n",
    "\n",
    "Google however has high predictability which means it is more consistent whereas Facebook and Instagram is more random. \n",
    "\n",
    "Due to Instagram's low coefficient, only 10% of the budget will be allocated. Facebook will have the highest budget allocation at 60% because it will generate more revenue and Google will be given 30% due to its consistency. \n",
    "\n",
    "Large market size is chosen and is focused on urban areas as it generates higher revenue as well.\n",
    "\n",
    "Total revenue is predicted to be $ 79,265,853.42"
   ]
  },
  {
   "cell_type": "markdown",
   "id": "c24de0b2",
   "metadata": {},
   "source": [
    "## Testing using train_test_split"
   ]
  },
  {
   "cell_type": "code",
   "execution_count": 30,
   "id": "09fcbf65",
   "metadata": {},
   "outputs": [
    {
     "data": {
      "text/html": [
       "<style>#sk-container-id-2 {color: black;background-color: white;}#sk-container-id-2 pre{padding: 0;}#sk-container-id-2 div.sk-toggleable {background-color: white;}#sk-container-id-2 label.sk-toggleable__label {cursor: pointer;display: block;width: 100%;margin-bottom: 0;padding: 0.3em;box-sizing: border-box;text-align: center;}#sk-container-id-2 label.sk-toggleable__label-arrow:before {content: \"▸\";float: left;margin-right: 0.25em;color: #696969;}#sk-container-id-2 label.sk-toggleable__label-arrow:hover:before {color: black;}#sk-container-id-2 div.sk-estimator:hover label.sk-toggleable__label-arrow:before {color: black;}#sk-container-id-2 div.sk-toggleable__content {max-height: 0;max-width: 0;overflow: hidden;text-align: left;background-color: #f0f8ff;}#sk-container-id-2 div.sk-toggleable__content pre {margin: 0.2em;color: black;border-radius: 0.25em;background-color: #f0f8ff;}#sk-container-id-2 input.sk-toggleable__control:checked~div.sk-toggleable__content {max-height: 200px;max-width: 100%;overflow: auto;}#sk-container-id-2 input.sk-toggleable__control:checked~label.sk-toggleable__label-arrow:before {content: \"▾\";}#sk-container-id-2 div.sk-estimator input.sk-toggleable__control:checked~label.sk-toggleable__label {background-color: #d4ebff;}#sk-container-id-2 div.sk-label input.sk-toggleable__control:checked~label.sk-toggleable__label {background-color: #d4ebff;}#sk-container-id-2 input.sk-hidden--visually {border: 0;clip: rect(1px 1px 1px 1px);clip: rect(1px, 1px, 1px, 1px);height: 1px;margin: -1px;overflow: hidden;padding: 0;position: absolute;width: 1px;}#sk-container-id-2 div.sk-estimator {font-family: monospace;background-color: #f0f8ff;border: 1px dotted black;border-radius: 0.25em;box-sizing: border-box;margin-bottom: 0.5em;}#sk-container-id-2 div.sk-estimator:hover {background-color: #d4ebff;}#sk-container-id-2 div.sk-parallel-item::after {content: \"\";width: 100%;border-bottom: 1px solid gray;flex-grow: 1;}#sk-container-id-2 div.sk-label:hover label.sk-toggleable__label {background-color: #d4ebff;}#sk-container-id-2 div.sk-serial::before {content: \"\";position: absolute;border-left: 1px solid gray;box-sizing: border-box;top: 0;bottom: 0;left: 50%;z-index: 0;}#sk-container-id-2 div.sk-serial {display: flex;flex-direction: column;align-items: center;background-color: white;padding-right: 0.2em;padding-left: 0.2em;position: relative;}#sk-container-id-2 div.sk-item {position: relative;z-index: 1;}#sk-container-id-2 div.sk-parallel {display: flex;align-items: stretch;justify-content: center;background-color: white;position: relative;}#sk-container-id-2 div.sk-item::before, #sk-container-id-2 div.sk-parallel-item::before {content: \"\";position: absolute;border-left: 1px solid gray;box-sizing: border-box;top: 0;bottom: 0;left: 50%;z-index: -1;}#sk-container-id-2 div.sk-parallel-item {display: flex;flex-direction: column;z-index: 1;position: relative;background-color: white;}#sk-container-id-2 div.sk-parallel-item:first-child::after {align-self: flex-end;width: 50%;}#sk-container-id-2 div.sk-parallel-item:last-child::after {align-self: flex-start;width: 50%;}#sk-container-id-2 div.sk-parallel-item:only-child::after {width: 0;}#sk-container-id-2 div.sk-dashed-wrapped {border: 1px dashed gray;margin: 0 0.4em 0.5em 0.4em;box-sizing: border-box;padding-bottom: 0.4em;background-color: white;}#sk-container-id-2 div.sk-label label {font-family: monospace;font-weight: bold;display: inline-block;line-height: 1.2em;}#sk-container-id-2 div.sk-label-container {text-align: center;}#sk-container-id-2 div.sk-container {/* jupyter's `normalize.less` sets `[hidden] { display: none; }` but bootstrap.min.css set `[hidden] { display: none !important; }` so we also need the `!important` here to be able to override the default hidden behavior on the sphinx rendered scikit-learn.org. See: https://github.com/scikit-learn/scikit-learn/issues/21755 */display: inline-block !important;position: relative;}#sk-container-id-2 div.sk-text-repr-fallback {display: none;}</style><div id=\"sk-container-id-2\" class=\"sk-top-container\"><div class=\"sk-text-repr-fallback\"><pre>LinearRegression()</pre><b>In a Jupyter environment, please rerun this cell to show the HTML representation or trust the notebook. <br />On GitHub, the HTML representation is unable to render, please try loading this page with nbviewer.org.</b></div><div class=\"sk-container\" hidden><div class=\"sk-item\"><div class=\"sk-estimator sk-toggleable\"><input class=\"sk-toggleable__control sk-hidden--visually\" id=\"sk-estimator-id-2\" type=\"checkbox\" checked><label for=\"sk-estimator-id-2\" class=\"sk-toggleable__label sk-toggleable__label-arrow\">LinearRegression</label><div class=\"sk-toggleable__content\"><pre>LinearRegression()</pre></div></div></div></div></div>"
      ],
      "text/plain": [
       "LinearRegression()"
      ]
     },
     "execution_count": 30,
     "metadata": {},
     "output_type": "execute_result"
    }
   ],
   "source": [
    "columns = ['google', 'facebook', 'instagram', 'is_large', 'rural', 'suburban', 'urban']\n",
    "\n",
    "X = df[columns] # x (other variables/features)\n",
    "y = df['sales'] # y (target variable)\n",
    "\n",
    "X_train, X_test, y_train, y_test = train_test_split(X, y, test_size=0.3, random_state=1)\n",
    "\n",
    "model = LinearRegression()\n",
    "model.fit(X,y)"
   ]
  },
  {
   "cell_type": "code",
   "execution_count": 31,
   "id": "f8f6a5c4",
   "metadata": {},
   "outputs": [
    {
     "name": "stdout",
     "output_type": "stream",
     "text": [
      "R-square Score: 0.9307711843340338\n",
      "Intercept: 2.928049332918782\n",
      "Coefficients: [ 0.04574401  0.1878667  -0.0010877   0.07739661 -0.05385834 -0.16042133\n",
      "  0.21427968]\n"
     ]
    }
   ],
   "source": [
    "score = model.score(X_test, y_test)\n",
    "c = model.intercept_\n",
    "m = model.coef_\n",
    "\n",
    "print('R-square Score:', score)\n",
    "print('Intercept:', c)\n",
    "print('Coefficients:', m)"
   ]
  },
  {
   "cell_type": "code",
   "execution_count": 32,
   "id": "6f0fa2e0",
   "metadata": {},
   "outputs": [
    {
     "name": "stdout",
     "output_type": "stream",
     "text": [
      "Coefficient for google: 0.04574401036331377\n",
      "Coefficient for facebook: 0.1878666955252582\n",
      "Coefficient for instagram: -0.0010876977267109955\n",
      "Coefficient for is_large: 0.07739660749747974\n",
      "Coefficient for rural: -0.0538583438308713\n",
      "Coefficient for suburban: -0.16042133399045805\n",
      "Coefficient for urban: 0.21427967782132934\n"
     ]
    }
   ],
   "source": [
    "for col, val in zip(columns, m):\n",
    "  print(f'Coefficient for {col}: {val}')"
   ]
  },
  {
   "cell_type": "code",
   "execution_count": 33,
   "id": "d0b44e42",
   "metadata": {},
   "outputs": [
    {
     "name": "stdout",
     "output_type": "stream",
     "text": [
      "Predicted units sold: 15.85 units\n",
      "Revenue: $ 79,265,853.42\n"
     ]
    }
   ],
   "source": [
    "# Budget = 100k\n",
    "\n",
    "pred_sales = model.predict([[30, 60, 10, 1, 0, 0, 1]])\n",
    "print(f'Predicted units sold: {pred_sales[0]:.2f} units')\n",
    "\n",
    "unit_price = 5000\n",
    "\n",
    "revenue = pred_sales[0] * 1000 * unit_price\n",
    "print(f'Revenue: $ {revenue:,.2f}')"
   ]
  },
  {
   "cell_type": "code",
   "execution_count": null,
   "id": "f82af699",
   "metadata": {},
   "outputs": [],
   "source": []
  }
 ],
 "metadata": {
  "kernelspec": {
   "display_name": "Python 3 (ipykernel)",
   "language": "python",
   "name": "python3"
  },
  "language_info": {
   "codemirror_mode": {
    "name": "ipython",
    "version": 3
   },
   "file_extension": ".py",
   "mimetype": "text/x-python",
   "name": "python",
   "nbconvert_exporter": "python",
   "pygments_lexer": "ipython3",
   "version": "3.9.7"
  }
 },
 "nbformat": 4,
 "nbformat_minor": 5
}
